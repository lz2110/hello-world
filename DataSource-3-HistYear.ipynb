{
 "cells": [
  {
   "cell_type": "code",
   "execution_count": 1,
   "id": "810fde53",
   "metadata": {},
   "outputs": [],
   "source": [
    "%matplotlib inline\n",
    "import matplotlib.pyplot as plt\n",
    "\n",
    "import requests\n",
    "import json\n",
    "import time\n",
    "import os\n",
    "import pandas as pd\n",
    "import numpy as np\n",
    "from bs4 import BeautifulSoup\n",
    "\n",
    "\n",
    "from IPython.core.display import HTML, display"
   ]
  },
  {
   "cell_type": "code",
   "execution_count": 2,
   "id": "a1021103",
   "metadata": {},
   "outputs": [
    {
     "data": {
      "text/plain": [
       "'https://worldpopulationreview.com/world-cities/prague-population'"
      ]
     },
     "execution_count": 2,
     "metadata": {},
     "output_type": "execute_result"
    }
   ],
   "source": [
    "m_url='https://worldpopulationreview.com/world-cities/prague-population'\n",
    "m_url"
   ]
  },
  {
   "cell_type": "code",
   "execution_count": 4,
   "id": "d7c2e0ec",
   "metadata": {},
   "outputs": [
    {
     "data": {
      "text/plain": [
       "200"
      ]
     },
     "execution_count": 4,
     "metadata": {},
     "output_type": "execute_result"
    }
   ],
   "source": [
    "r = requests.get(m_url)\n",
    "r.status_code"
   ]
  },
  {
   "cell_type": "code",
   "execution_count": 5,
   "id": "73d74f33",
   "metadata": {},
   "outputs": [],
   "source": [
    "m_soup = BeautifulSoup(r.text,'html')\n",
    "#print(m_soup.prettify())"
   ]
  },
  {
   "cell_type": "code",
   "execution_count": 6,
   "id": "c883d395",
   "metadata": {},
   "outputs": [],
   "source": [
    "m_country = m_soup.find('script',id=\"__NEXT_DATA__\",type=\"application/json\")"
   ]
  },
  {
   "cell_type": "code",
   "execution_count": 7,
   "id": "28992257",
   "metadata": {},
   "outputs": [],
   "source": [
    "m_str=m_country.string"
   ]
  },
  {
   "cell_type": "code",
   "execution_count": 8,
   "id": "d7864906",
   "metadata": {},
   "outputs": [],
   "source": [
    "m_j=json.loads(m_str)"
   ]
  },
  {
   "cell_type": "code",
   "execution_count": 11,
   "id": "88f46df7",
   "metadata": {
    "scrolled": false
   },
   "outputs": [
    {
     "ename": "AttributeError",
     "evalue": "'dict' object has no attribute 'shape'",
     "output_type": "error",
     "traceback": [
      "\u001b[1;31m---------------------------------------------------------------------------\u001b[0m",
      "\u001b[1;31mAttributeError\u001b[0m                            Traceback (most recent call last)",
      "\u001b[1;32m<ipython-input-11-569e0a326d2e>\u001b[0m in \u001b[0;36m<module>\u001b[1;34m\u001b[0m\n\u001b[1;32m----> 1\u001b[1;33m \u001b[0mm_j\u001b[0m\u001b[1;33m.\u001b[0m\u001b[0mshape\u001b[0m\u001b[1;33m\u001b[0m\u001b[1;33m\u001b[0m\u001b[0m\n\u001b[0m",
      "\u001b[1;31mAttributeError\u001b[0m: 'dict' object has no attribute 'shape'"
     ]
    }
   ],
   "source": [
    "m_j.shape"
   ]
  },
  {
   "cell_type": "code",
   "execution_count": 12,
   "id": "7d8c6838",
   "metadata": {},
   "outputs": [
    {
     "data": {
      "text/plain": [
       "{'Growth': 0, 'GrowthRate': 0, 'Population': 934789, 'Year': 1950}"
      ]
     },
     "execution_count": 12,
     "metadata": {},
     "output_type": "execute_result"
    }
   ],
   "source": [
    "js2=m_j['props']['pageProps']['yearData']\n",
    "js2[0]"
   ]
  },
  {
   "cell_type": "code",
   "execution_count": 21,
   "id": "d52ce1a2",
   "metadata": {},
   "outputs": [
    {
     "data": {
      "text/plain": [
       "'Albania'"
      ]
     },
     "execution_count": 21,
     "metadata": {},
     "output_type": "execute_result"
    }
   ],
   "source": [
   
   ]
  },
  {
   "cell_type": "code",
   "execution_count": 13,
   "id": "fdfe1421",
   "metadata": {
    "scrolled": true
   },
   "outputs": [
    {
     "data": {
      "text/html": [
       "<div>\n",
       "<style scoped>\n",
       "    .dataframe tbody tr th:only-of-type {\n",
       "        vertical-align: middle;\n",
       "    }\n",
       "\n",
       "    .dataframe tbody tr th {\n",
       "        vertical-align: top;\n",
       "    }\n",
       "\n",
       "    .dataframe thead th {\n",
       "        text-align: right;\n",
       "    }\n",
       "</style>\n",
       "<table border=\"1\" class=\"dataframe\">\n",
       "  <thead>\n",
       "    <tr style=\"text-align: right;\">\n",
       "      <th></th>\n",
       "      <th>Growth</th>\n",
       "      <th>GrowthRate</th>\n",
       "      <th>Population</th>\n",
       "      <th>Year</th>\n",
       "    </tr>\n",
       "  </thead>\n",
       "  <tbody>\n",
       "    <tr>\n",
       "      <th>0</th>\n",
       "      <td>0</td>\n",
       "      <td>0.000000</td>\n",
       "      <td>934789</td>\n",
       "      <td>1950</td>\n",
       "    </tr>\n",
       "    <tr>\n",
       "      <th>1</th>\n",
       "      <td>6402</td>\n",
       "      <td>0.006849</td>\n",
       "      <td>941191</td>\n",
       "      <td>1951</td>\n",
       "    </tr>\n",
       "    <tr>\n",
       "      <th>2</th>\n",
       "      <td>6455</td>\n",
       "      <td>0.006858</td>\n",
       "      <td>947646</td>\n",
       "      <td>1952</td>\n",
       "    </tr>\n",
       "    <tr>\n",
       "      <th>3</th>\n",
       "      <td>6482</td>\n",
       "      <td>0.006840</td>\n",
       "      <td>954128</td>\n",
       "      <td>1953</td>\n",
       "    </tr>\n",
       "    <tr>\n",
       "      <th>4</th>\n",
       "      <td>6534</td>\n",
       "      <td>0.006848</td>\n",
       "      <td>960662</td>\n",
       "      <td>1954</td>\n",
       "    </tr>\n",
       "  </tbody>\n",
       "</table>\n",
       "</div>"
      ],
      "text/plain": [
       "   Growth  GrowthRate  Population  Year\n",
       "0       0    0.000000      934789  1950\n",
       "1    6402    0.006849      941191  1951\n",
       "2    6455    0.006858      947646  1952\n",
       "3    6482    0.006840      954128  1953\n",
       "4    6534    0.006848      960662  1954"
      ]
     },
     "execution_count": 13,
     "metadata": {},
     "output_type": "execute_result"
    }
   ],
   "source": [
    "m_pd2=pd.DataFrame(js2)\n",
    "#m_pd2.rename(columns={'Name':'City','Prev':'LastYear'},inplace=True)\n",
    "m_pd2.head(5)"
   ]
  },
  {
   "cell_type": "code",
   "execution_count": 16,
   "id": "53bc5914",
   "metadata": {},
   "outputs": [
    {
     "data": {
      "text/html": [
       "<div>\n",
       "<style scoped>\n",
       "    .dataframe tbody tr th:only-of-type {\n",
       "        vertical-align: middle;\n",
       "    }\n",
       "\n",
       "    .dataframe tbody tr th {\n",
       "        vertical-align: top;\n",
       "    }\n",
       "\n",
       "    .dataframe thead th {\n",
       "        text-align: right;\n",
       "    }\n",
       "</style>\n",
       "<table border=\"1\" class=\"dataframe\">\n",
       "  <thead>\n",
       "    <tr style=\"text-align: right;\">\n",
       "      <th></th>\n",
       "      <th>Growth</th>\n",
       "      <th>GrowthRate</th>\n",
       "      <th>Population</th>\n",
       "    </tr>\n",
       "    <tr>\n",
       "      <th>Year</th>\n",
       "      <th></th>\n",
       "      <th></th>\n",
       "      <th></th>\n",
       "    </tr>\n",
       "  </thead>\n",
       "  <tbody>\n",
       "    <tr>\n",
       "      <th>1950</th>\n",
       "      <td>0</td>\n",
       "      <td>0.000000</td>\n",
       "      <td>934789</td>\n",
       "    </tr>\n",
       "    <tr>\n",
       "      <th>1951</th>\n",
       "      <td>6402</td>\n",
       "      <td>0.006849</td>\n",
       "      <td>941191</td>\n",
       "    </tr>\n",
       "    <tr>\n",
       "      <th>1952</th>\n",
       "      <td>6455</td>\n",
       "      <td>0.006858</td>\n",
       "      <td>947646</td>\n",
       "    </tr>\n",
       "    <tr>\n",
       "      <th>1953</th>\n",
       "      <td>6482</td>\n",
       "      <td>0.006840</td>\n",
       "      <td>954128</td>\n",
       "    </tr>\n",
       "    <tr>\n",
       "      <th>1954</th>\n",
       "      <td>6534</td>\n",
       "      <td>0.006848</td>\n",
       "      <td>960662</td>\n",
       "    </tr>\n",
       "  </tbody>\n",
       "</table>\n",
       "</div>"
      ],
      "text/plain": [
       "      Growth  GrowthRate  Population\n",
       "Year                                \n",
       "1950       0    0.000000      934789\n",
       "1951    6402    0.006849      941191\n",
       "1952    6455    0.006858      947646\n",
       "1953    6482    0.006840      954128\n",
       "1954    6534    0.006848      960662"
      ]
     },
     "execution_count": 16,
     "metadata": {},
     "output_type": "execute_result"
    }
   ],
   "source": [
    "m_pd2 = m_pd2.set_index('Year')\n",
    "m_pd2.head()"
   ]
  },
  {
   "cell_type": "code",
   "execution_count": 30,
   "id": "5ad21324",
   "metadata": {},
   "outputs": [
    {
     "data": {
      "text/html": [
       "<div>\n",
       "<style scoped>\n",
       "    .dataframe tbody tr th:only-of-type {\n",
       "        vertical-align: middle;\n",
       "    }\n",
       "\n",
       "    .dataframe tbody tr th {\n",
       "        vertical-align: top;\n",
       "    }\n",
       "\n",
       "    .dataframe thead th {\n",
       "        text-align: right;\n",
       "    }\n",
       "</style>\n",
       "<table border=\"1\" class=\"dataframe\">\n",
       "  <thead>\n",
       "    <tr style=\"text-align: right;\">\n",
       "      <th></th>\n",
       "      <th>Growth</th>\n",
       "      <th>GrowthRate</th>\n",
       "      <th>Population</th>\n",
       "    </tr>\n",
       "    <tr>\n",
       "      <th>Year</th>\n",
       "      <th></th>\n",
       "      <th></th>\n",
       "      <th></th>\n",
       "    </tr>\n",
       "  </thead>\n",
       "  <tbody>\n",
       "    <tr>\n",
       "      <th>2021</th>\n",
       "      <td>6462</td>\n",
       "      <td>0.004949</td>\n",
       "      <td>1312199</td>\n",
       "    </tr>\n",
       "    <tr>\n",
       "      <th>2020</th>\n",
       "      <td>6933</td>\n",
       "      <td>0.005338</td>\n",
       "      <td>1305737</td>\n",
       "    </tr>\n",
       "    <tr>\n",
       "      <th>2019</th>\n",
       "      <td>7252</td>\n",
       "      <td>0.005615</td>\n",
       "      <td>1298804</td>\n",
       "    </tr>\n",
       "    <tr>\n",
       "      <th>2018</th>\n",
       "      <td>7390</td>\n",
       "      <td>0.005755</td>\n",
       "      <td>1291552</td>\n",
       "    </tr>\n",
       "    <tr>\n",
       "      <th>2017</th>\n",
       "      <td>7348</td>\n",
       "      <td>0.005755</td>\n",
       "      <td>1284162</td>\n",
       "    </tr>\n",
       "  </tbody>\n",
       "</table>\n",
       "</div>"
      ],
      "text/plain": [
       "      Growth  GrowthRate  Population\n",
       "Year                                \n",
       "2021    6462    0.004949     1312199\n",
       "2020    6933    0.005338     1305737\n",
       "2019    7252    0.005615     1298804\n",
       "2018    7390    0.005755     1291552\n",
       "2017    7348    0.005755     1284162"
      ]
     },
     "execution_count": 30,
     "metadata": {},
     "output_type": "execute_result"
    }
   ],
   "source": [
    "#m_yd = m_pd2.loc[1970:2021].sort_index(ascending=False)\n",
    "m_yd = m_pd2.loc[1960:2021].sort_index(ascending=False)\n",
    "m_yd.head()"
   ]
  },
  {
   "cell_type": "code",
   "execution_count": 31,
   "id": "fa304201",
   "metadata": {},
   "outputs": [
    {
     "data": {
      "text/plain": [
       "<matplotlib.legend.Legend at 0x1d4dfb572b0>"
      ]
     },
     "execution_count": 31,
     "metadata": {},
     "output_type": "execute_result"
    },
    {
     "data": {
      "image/png": "[encoded data removed]",
      "text/plain": [
       "<Figure size 432x288 with 1 Axes>"
      ]
     },
     "metadata": {},
     "output_type": "display_data"
    }
   ],
   "source": [
    "plt.style.use('fivethirtyeight')\n",
    "plt.plot(m_yd.index,m_yd.Population,label=\"Million People\",marker='X')\n",
    "#plt.plot(df4.C,df4.D,label=\"CD\",linewidth=5, marker='X')\n",
    "#plt.xlabel(\"X_label\")\n",
    "#plt.ylabel(\"Y_label\")\n",
    "plt.title(\"Prague Population Yearly Data\",fontsize=20)\n",
    "plt.legend(loc='best')\n",
    "#plt.text(2,6,\"I am here\")\n",
    "#plt.style.use('ggplot')\n"
   ]
  }
 ],
 "metadata": {
  "kernelspec": {
   "display_name": "Python 3",
   "language": "python",
   "name": "python3"
  },
  "language_info": {
   "codemirror_mode": {
    "name": "ipython",
    "version": 3
   },
   "file_extension": ".py",
   "mimetype": "text/x-python",
   "name": "python",
   "nbconvert_exporter": "python",
   "pygments_lexer": "ipython3",
   "version": "3.8.8"
  }
 },
 "nbformat": 4,
 "nbformat_minor": 5
}
